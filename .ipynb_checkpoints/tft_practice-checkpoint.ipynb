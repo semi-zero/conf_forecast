{
 "cells": [
  {
   "cell_type": "code",
   "execution_count": 1,
   "id": "7543dba6-7607-41f2-8ba1-8413e7ea1cf9",
   "metadata": {},
   "outputs": [],
   "source": [
    "#conda install tensorflow-estimator=2.1.0\n",
    "#!pip install tensorboard"
   ]
  },
  {
   "cell_type": "code",
   "execution_count": 1,
   "id": "32e9f4e6-c402-404f-bc15-6628f63a2691",
   "metadata": {},
   "outputs": [],
   "source": [
    "import matplotlib.pyplot as plt\n",
    "import seaborn as sns\n",
    "from datetime import datetime, timedelta\n",
    "import warnings\n",
    "\n",
    "import argparse\n",
    "import logging\n",
    "import pandas as pd\n",
    "import random\n",
    "import os\n",
    "import numpy as np\n",
    "from loggers import logger\n",
    "\n",
    "from process import input_data, preprocess\n",
    "\n",
    "def set_logger(log_name):\n",
    "    log_obj = logger.AutoMLLog(log_name)\n",
    "    log_obj.set_handler('automl_process')\n",
    "    log_obj.set_formats()\n",
    "    auto_logger = log_obj.addOn()\n",
    "    \n",
    "    auto_logger.info('logger 세팅')"
   ]
  },
  {
   "cell_type": "code",
   "execution_count": 2,
   "id": "94a12216-b764-4f33-a2fa-295a134aabd8",
   "metadata": {},
   "outputs": [],
   "source": [
    "import os\n",
    "import warnings\n",
    "\n",
    "warnings.filterwarnings(\"ignore\")  # avoid printing out absolute paths\n",
    "\n",
    "import copy\n",
    "from pathlib import Path\n",
    "import warnings\n",
    "\n",
    "import numpy as np\n",
    "import pandas as pd\n",
    "import pytorch_lightning as pl\n",
    "from pytorch_lightning.callbacks import EarlyStopping, LearningRateMonitor\n",
    "from pytorch_lightning.loggers import TensorBoardLogger\n",
    "import torch\n",
    "\n",
    "from pytorch_forecasting import Baseline, TemporalFusionTransformer, TimeSeriesDataSet\n",
    "from pytorch_forecasting.data import GroupNormalizer\n",
    "from pytorch_forecasting.metrics import SMAPE, PoissonLoss, QuantileLoss\n",
    "from pytorch_forecasting.models.temporal_fusion_transformer.tuning import optimize_hyperparameters\n",
    "\n",
    "import tensorflow as tf\n",
    "import tensorboard as tb\n",
    "tf.io.gfile = tb.compat.tensorflow_stub.io.gfile"
   ]
  },
  {
   "cell_type": "code",
   "execution_count": 3,
   "id": "2c7f9625-53cf-414a-be47-08cd7be94773",
   "metadata": {},
   "outputs": [],
   "source": [
    "path ='storage/datastallion.csv'\n",
    "target_var='volume'\n",
    "date_var= 'date'\n",
    "store_list=['sku','agency']\n",
    "unit='month'\n",
    "predict_n = 7"
   ]
  },
  {
   "cell_type": "code",
   "execution_count": 4,
   "id": "aef51c8e-34cb-4eb4-8997-841b310933e7",
   "metadata": {},
   "outputs": [],
   "source": [
    "path ='storage/data/Walmart.csv'\n",
    "target_var='Weekly_Sales'\n",
    "date_var= 'Date'\n",
    "store_list=['Store']\n",
    "unit='week'\n",
    "predict_n = 7"
   ]
  },
  {
   "cell_type": "code",
   "execution_count": 3,
   "id": "3d70115d-6699-422f-9cd0-5e356d7d4b69",
   "metadata": {},
   "outputs": [],
   "source": [
    "path ='storage/data/snop_prep_df_230312.csv'\n",
    "target_var='qty'\n",
    "date_var= 'yymmdd'\n",
    "store_list=['SP1','브랜드']\n",
    "unit='week'\n",
    "predict_n = 7"
   ]
  },
  {
   "cell_type": "code",
   "execution_count": 4,
   "id": "b1e0f053-88ce-4583-a588-2e6911f330b7",
   "metadata": {
    "tags": []
   },
   "outputs": [
    {
     "name": "stderr",
     "output_type": "stream",
     "text": [
      "logger 세팅\n",
      "csv 데이터 불러오기\n",
      "storage/data/snop_prep_df_230312.csv\n",
      "변수 분리 시작\n",
      "데이터 구성: 20674 행, 11열\n",
      "Memory usage of dataframe is 1.74MB\n",
      "Memory usage after optimization is: 0.34MB\n",
      "Decreased by 80.2%\n",
      "결측치 처리\n",
      "결측치 처리 이후 데이터 구성: 20674 행, 11열\n",
      "전처리를 위한 target, date, store 분리\n",
      "정규화 진행\n",
      "라벨 인코딩 진행\n",
      "전처리 완료\n",
      "\n",
      "\n",
      "   biz_cd  line_cd  brand_cd   rhm_avg   gsr_sum  discount  cust_grp_cd  \\\n",
      "0       0        2        11 -0.465971  0.566105  0.140066     0.711465   \n",
      "1       0        2        11 -0.675800  0.723852  0.350474     0.711465   \n",
      "2       0        2        11 -0.767198  1.109205  0.245270     0.711465   \n",
      "3       0        2        11 -0.588264  1.309768  0.034862     0.711465   \n",
      "4       0        2        11 -0.467259  1.023571  0.034862     0.711465   \n",
      "\n",
      "         qty      yymmdd    SP1 브랜드  \n",
      "0  13.281250  2020-03-22  종로영업소  칸쵸  \n",
      "1  15.257812  2020-03-29  종로영업소  칸쵸  \n",
      "2  29.671875  2020-04-05  종로영업소  칸쵸  \n",
      "3  28.859375  2020-04-12  종로영업소  칸쵸  \n",
      "4  65.750000  2020-04-19  종로영업소  칸쵸  \n",
      "시계열용 전처리 진행\n",
      "시계열 전처리 후 df\n",
      "   biz_cd  line_cd  brand_cd   rhm_avg   gsr_sum  discount  cust_grp_cd  \\\n",
      "0       0        2        11 -0.465971  0.566105  0.140066     0.711465   \n",
      "1       0        2        11 -0.675800  0.723852  0.350474     0.711465   \n",
      "2       0        2        11 -0.767198  1.109205  0.245270     0.711465   \n",
      "3       0        2        11 -0.588264  1.309768  0.034862     0.711465   \n",
      "4       0        2        11 -0.467259  1.023571  0.034862     0.711465   \n",
      "\n",
      "         qty     yymmdd    SP1 브랜드  time_idx week  \n",
      "0  13.281250 2020-03-22  종로영업소  칸쵸         0   12  \n",
      "1  15.257812 2020-03-29  종로영업소  칸쵸         1   13  \n",
      "2  29.671875 2020-04-05  종로영업소  칸쵸         2   14  \n",
      "3  28.859375 2020-04-12  종로영업소  칸쵸         3   15  \n",
      "4  65.750000 2020-04-19  종로영업소  칸쵸         4   16  \n"
     ]
    }
   ],
   "source": [
    "log_name = 'practice_tft'\n",
    "set_logger(log_name)\n",
    "data, var_list, num_var, obj_var = input_data.Data_load(path, log_name).read_data()\n",
    "df = preprocess.Preprocessing(log_name, data, var_list, num_var, obj_var, target_var=target_var, date_var=date_var, store_list=store_list, unit=unit).df"
   ]
  },
  {
   "cell_type": "code",
   "execution_count": 5,
   "id": "81290b9a-f2e3-4f04-aa81-3c5826dd023b",
   "metadata": {},
   "outputs": [],
   "source": [
    "data = pd.read_csv('storage/data/snop_prep_df_230312.csv')\n",
    "#data.drop_duplicates(store_list)"
   ]
  },
  {
   "cell_type": "code",
   "execution_count": 30,
   "id": "4b5f7a79-6e90-4e78-b939-e38674d624aa",
   "metadata": {},
   "outputs": [],
   "source": [
    "data[store_list].value_counts().to_csv('value_counts.csv')"
   ]
  },
  {
   "cell_type": "code",
   "execution_count": 12,
   "id": "9c23a4ea-4694-4086-836d-f1de708e02bc",
   "metadata": {},
   "outputs": [],
   "source": [
    "# add additional features\n",
    "#data[\"month\"] = data.date.dt.month.astype(str).astype(\"category\")  # categories have be strings # 이미 함\n",
    "df[f\"log_{target_var}\"] = np.log(np.abs(df[target_var]) + 1e-5)\n",
    "for store_var in store_list:\n",
    "    df[f\"avg_{target_var}_by_{store_var}\"] = df.groupby([\"time_idx\", store_var], observed=True)[target_var].transform(\"mean\")"
   ]
  },
  {
   "cell_type": "code",
   "execution_count": 13,
   "id": "d9faebf7-151f-4d10-bed4-4b514654d4fa",
   "metadata": {},
   "outputs": [],
   "source": [
    "max_prediction_length = predict_n\n",
    "max_encoder_length = predict_n * 4\n",
    "training_cutoff = df['time_idx'].max() - max_prediction_length"
   ]
  },
  {
   "cell_type": "code",
   "execution_count": 14,
   "id": "93d9fda4-5ecd-4de9-b6ee-8418238e8747",
   "metadata": {},
   "outputs": [],
   "source": [
    "#매우 중요\n",
    "df.sort_values(store_list+[date_var], inplace=True)"
   ]
  },
  {
   "cell_type": "code",
   "execution_count": 57,
   "id": "78d308dc-5c06-4762-8950-ae4cb78076c6",
   "metadata": {},
   "outputs": [],
   "source": [
    "df['max_time_idx'] = df.groupby(store_list)['time_idx'].transform(max)"
   ]
  },
  {
   "cell_type": "code",
   "execution_count": 16,
   "id": "593c2c8d-402c-48cc-bae9-fce722c359ce",
   "metadata": {},
   "outputs": [],
   "source": [
    "training = TimeSeriesDataSet(\n",
    "    df[lambda x: x.time_idx <= (x.max_time_idx-max_prediction_length)],\n",
    "    time_idx=\"time_idx\",\n",
    "    target=target_var,\n",
    "    group_ids=store_list,\n",
    "    min_encoder_length=max_encoder_length // 2,  # keep encoder length long (as it is in the validation set)\n",
    "    max_encoder_length=max_encoder_length,\n",
    "    min_prediction_length=1,\n",
    "    max_prediction_length=max_prediction_length,\n",
    "    static_categoricals=store_list,\n",
    "    static_reals=[],\n",
    "    time_varying_known_categoricals=[unit],\n",
    "    variable_groups={},  # group of categorical variables can be treated as one variable\n",
    "    time_varying_known_reals=[\"time_idx\"],\n",
    "    time_varying_unknown_categoricals=[],\n",
    "    time_varying_unknown_reals=\n",
    "    [target_var, f\"log_{target_var}\"]+ [f\"avg_{target_var}_by_{store_var}\" for store_var in store_list],\n",
    "    target_normalizer=GroupNormalizer(\n",
    "        groups=store_list, transformation=\"softplus\"\n",
    "    ),  # use softplus and normalize by group\n",
    "    add_relative_time_idx=True,\n",
    "    add_target_scales=True,\n",
    "    add_encoder_length=True,\n",
    ")\n",
    "\n",
    "# create validation set (predict=True) which means to predict the last max_prediction_length points in time\n",
    "# for each series\n",
    "validation = TimeSeriesDataSet.from_dataset(training, df, predict=True, stop_randomization=True)\n",
    "\n",
    "# create dataloaders for model\n",
    "batch_size = 128  # set this between 32 to 128\n",
    "train_dataloader = training.to_dataloader(train=True, batch_size=batch_size, num_workers=0)\n",
    "val_dataloader = validation.to_dataloader(train=False, batch_size=batch_size * 10, num_workers=0)"
   ]
  },
  {
   "cell_type": "code",
   "execution_count": 17,
   "id": "488bcf6c-2e1b-4f16-82ff-fb52ade4ed94",
   "metadata": {},
   "outputs": [
    {
     "name": "stderr",
     "output_type": "stream",
     "text": [
      "Global seed set to 42\n",
      "GPU available: False, used: False\n",
      "TPU available: False, using: 0 TPU cores\n",
      "IPU available: False, using: 0 IPUs\n"
     ]
    },
    {
     "name": "stdout",
     "output_type": "stream",
     "text": [
      "Number of parameters in network: 22.6k\n"
     ]
    }
   ],
   "source": [
    "# configure network and trainer\n",
    "pl.seed_everything(42)\n",
    "trainer = pl.Trainer(\n",
    "    gpus=0,\n",
    "    # clipping gradients is a hyperparameter and important to prevent divergance\n",
    "    # of the gradient for recurrent neural networks\n",
    "    gradient_clip_val=0.1,\n",
    ")\n",
    "\n",
    "\n",
    "tft = TemporalFusionTransformer.from_dataset(\n",
    "    training,\n",
    "    # not meaningful for finding the learning rate but otherwise very important\n",
    "    learning_rate=0.03,\n",
    "    hidden_size=16,  # most important hyperparameter apart from learning rate\n",
    "    # number of attention heads. Set to up to 4 for large datasets\n",
    "    attention_head_size=1,\n",
    "    dropout=0.1,  # between 0.1 and 0.3 are good values\n",
    "    hidden_continuous_size=8,  # set to <= hidden_size\n",
    "    output_size=7,  # 7 quantiles by default\n",
    "    loss=QuantileLoss(),\n",
    "    # reduce learning rate if no improvement in validation loss after x epochs\n",
    "    reduce_on_plateau_patience=4,\n",
    ")\n",
    "print(f\"Number of parameters in network: {tft.size()/1e3:.1f}k\")"
   ]
  },
  {
   "cell_type": "code",
   "execution_count": 18,
   "id": "79da45de-1960-4824-809e-0c8512a9cf6b",
   "metadata": {},
   "outputs": [
    {
     "name": "stderr",
     "output_type": "stream",
     "text": [
      "Global seed set to 42\n"
     ]
    },
    {
     "data": {
      "application/vnd.jupyter.widget-view+json": {
       "model_id": "d24402facb904d3a9d323be5f4d79875",
       "version_major": 2,
       "version_minor": 0
      },
      "text/plain": [
       "Finding best initial lr:   0%|          | 0/100 [00:00<?, ?it/s]"
      ]
     },
     "metadata": {},
     "output_type": "display_data"
    },
    {
     "name": "stderr",
     "output_type": "stream",
     "text": [
      "Restoring states from the checkpoint path at C:\\Users\\dpapf\\Desktop\\automl_forecast\\lr_find_temp_model_45bbd7cd-aa29-4ae7-b52c-340d43b9bc06.ckpt\n"
     ]
    },
    {
     "name": "stdout",
     "output_type": "stream",
     "text": [
      "suggested learning rate: 0.07943282347242808\n"
     ]
    },
    {
     "data": {
      "image/png": "[encoded data removed]",
      "text/plain": [
       "<Figure size 640x480 with 1 Axes>"
      ]
     },
     "metadata": {},
     "output_type": "display_data"
    }
   ],
   "source": [
    "# find optimal learning rate\n",
    "res = trainer.tuner.lr_find(\n",
    "    tft,\n",
    "    train_dataloaders=train_dataloader,\n",
    "    val_dataloaders=val_dataloader,\n",
    "    max_lr=10.0,\n",
    "    min_lr=1e-6,\n",
    ")\n",
    "\n",
    "print(f\"suggested learning rate: {res.suggestion()}\")\n",
    "fig = res.plot(show=True, suggest=True)\n",
    "fig.show()"
   ]
  },
  {
   "cell_type": "code",
   "execution_count": 19,
   "id": "2d45aa4e-6638-440d-8e32-a8f8a3d95136",
   "metadata": {},
   "outputs": [
    {
     "name": "stderr",
     "output_type": "stream",
     "text": [
      "GPU available: False, used: False\n",
      "TPU available: False, using: 0 TPU cores\n",
      "IPU available: False, using: 0 IPUs\n"
     ]
    },
    {
     "name": "stdout",
     "output_type": "stream",
     "text": [
      "Number of parameters in network: 22.6k\n"
     ]
    }
   ],
   "source": [
    "# configure network and trainer\n",
    "early_stop_callback = EarlyStopping(monitor=\"val_loss\", min_delta=1e-4, patience=10, verbose=False, mode=\"min\")\n",
    "lr_logger = LearningRateMonitor()  # log the learning rate\n",
    "logger = TensorBoardLogger(\"lightning_logs\")  # logging results to a tensorboard\n",
    "\n",
    "trainer = pl.Trainer(\n",
    "    max_epochs=3,\n",
    "    gpus=0,\n",
    "    enable_model_summary=True,\n",
    "    gradient_clip_val=0.1,\n",
    "    limit_train_batches=30,  # coment in for training, running valiation every 30 batches\n",
    "    # fast_dev_run=True,  # comment in to check that networkor dataset has no serious bugs\n",
    "    callbacks=[lr_logger, early_stop_callback],\n",
    "    logger=logger,\n",
    ")\n",
    "\n",
    "\n",
    "tft = TemporalFusionTransformer.from_dataset(\n",
    "    training,\n",
    "    learning_rate=0.03,\n",
    "    hidden_size=16,\n",
    "    attention_head_size=1,\n",
    "    dropout=0.1,\n",
    "    hidden_continuous_size=8,\n",
    "    output_size=7,  # 7 quantiles by default\n",
    "    loss=QuantileLoss(),\n",
    "    log_interval=10,  # uncomment for learning rate finder and otherwise, e.g. to 10 for logging every 10 batches\n",
    "    reduce_on_plateau_patience=4,\n",
    ")\n",
    "print(f\"Number of parameters in network: {tft.size()/1e3:.1f}k\")"
   ]
  },
  {
   "cell_type": "code",
   "execution_count": 20,
   "id": "71233073-093c-4032-97f6-fe67f4c5881c",
   "metadata": {},
   "outputs": [
    {
     "name": "stderr",
     "output_type": "stream",
     "text": [
      "\n",
      "   | Name                               | Type                            | Params\n",
      "----------------------------------------------------------------------------------------\n",
      "0  | loss                               | QuantileLoss                    | 0     \n",
      "1  | logging_metrics                    | ModuleList                      | 0     \n",
      "2  | input_embeddings                   | MultiEmbedding                  | 1.1 K \n",
      "3  | prescalers                         | ModuleDict                      | 144   \n",
      "4  | static_variable_selection          | VariableSelectionNetwork        | 2.0 K \n",
      "5  | encoder_variable_selection         | VariableSelectionNetwork        | 4.0 K \n",
      "6  | decoder_variable_selection         | VariableSelectionNetwork        | 1.3 K \n",
      "7  | static_context_variable_selection  | GatedResidualNetwork            | 1.1 K \n",
      "8  | static_context_initial_hidden_lstm | GatedResidualNetwork            | 1.1 K \n",
      "9  | static_context_initial_cell_lstm   | GatedResidualNetwork            | 1.1 K \n",
      "10 | static_context_enrichment          | GatedResidualNetwork            | 1.1 K \n",
      "11 | lstm_encoder                       | LSTM                            | 2.2 K \n",
      "12 | lstm_decoder                       | LSTM                            | 2.2 K \n",
      "13 | post_lstm_gate_encoder             | GatedLinearUnit                 | 544   \n",
      "14 | post_lstm_add_norm_encoder         | AddNorm                         | 32    \n",
      "15 | static_enrichment                  | GatedResidualNetwork            | 1.4 K \n",
      "16 | multihead_attn                     | InterpretableMultiHeadAttention | 1.1 K \n",
      "17 | post_attn_gate_norm                | GateAddNorm                     | 576   \n",
      "18 | pos_wise_ff                        | GatedResidualNetwork            | 1.1 K \n",
      "19 | pre_output_gate_norm               | GateAddNorm                     | 576   \n",
      "20 | output_layer                       | Linear                          | 119   \n",
      "----------------------------------------------------------------------------------------\n",
      "22.6 K    Trainable params\n",
      "0         Non-trainable params\n",
      "22.6 K    Total params\n",
      "0.091     Total estimated model params size (MB)\n"
     ]
    },
    {
     "data": {
      "application/vnd.jupyter.widget-view+json": {
       "model_id": "",
       "version_major": 2,
       "version_minor": 0
      },
      "text/plain": [
       "Validation sanity check: 0it [00:00, ?it/s]"
      ]
     },
     "metadata": {},
     "output_type": "display_data"
    },
    {
     "name": "stderr",
     "output_type": "stream",
     "text": [
      "Global seed set to 42\n"
     ]
    },
    {
     "data": {
      "application/vnd.jupyter.widget-view+json": {
       "model_id": "f0bbb1f5ded548e3a9f1254445b2b771",
       "version_major": 2,
       "version_minor": 0
      },
      "text/plain": [
       "Training: 0it [00:00, ?it/s]"
      ]
     },
     "metadata": {},
     "output_type": "display_data"
    },
    {
     "data": {
      "application/vnd.jupyter.widget-view+json": {
       "model_id": "",
       "version_major": 2,
       "version_minor": 0
      },
      "text/plain": [
       "Validating: 0it [00:00, ?it/s]"
      ]
     },
     "metadata": {},
     "output_type": "display_data"
    },
    {
     "data": {
      "application/vnd.jupyter.widget-view+json": {
       "model_id": "",
       "version_major": 2,
       "version_minor": 0
      },
      "text/plain": [
       "Validating: 0it [00:00, ?it/s]"
      ]
     },
     "metadata": {},
     "output_type": "display_data"
    },
    {
     "data": {
      "application/vnd.jupyter.widget-view+json": {
       "model_id": "",
       "version_major": 2,
       "version_minor": 0
      },
      "text/plain": [
       "Validating: 0it [00:00, ?it/s]"
      ]
     },
     "metadata": {},
     "output_type": "display_data"
    }
   ],
   "source": [
    "# fit network\n",
    "trainer.fit(\n",
    "    tft,\n",
    "    train_dataloaders=train_dataloader,\n",
    "    val_dataloaders=val_dataloader,\n",
    ")"
   ]
  },
  {
   "cell_type": "code",
   "execution_count": 21,
   "id": "18e07593-7ecb-47e9-9e6b-d17789cc384d",
   "metadata": {},
   "outputs": [],
   "source": [
    "# import pickle\n",
    "\n",
    "# from pytorch_forecasting.models.temporal_fusion_transformer.tuning import optimize_hyperparameters\n",
    "\n",
    "# # create study\n",
    "# study = optimize_hyperparameters(\n",
    "#     train_dataloader,\n",
    "#     val_dataloader,\n",
    "#     model_path=\"optuna_test\",\n",
    "#     n_trials=200,\n",
    "#     max_epochs=2, #조절 필요\n",
    "#     gradient_clip_val_range=(0.01, 1.0),\n",
    "#     #hidden_size_range=(8, 128),\n",
    "#     #hidden_continuous_size_range=(8, 128),\n",
    "#     #attention_head_size_range=(1, 4),\n",
    "#     #learning_rate_range=(0.001, 0.1),\n",
    "#     #dropout_range=(0.1, 0.3),\n",
    "#     trainer_kwargs=dict(limit_train_batches=30),\n",
    "#     reduce_on_plateau_patience=4,\n",
    "#     use_learning_rate_finder=False,  # use Optuna to find ideal learning rate or use in-built learning rate finder\n",
    "# )\n",
    "\n",
    "# # save study results - also we can resume tuning at a later point in time\n",
    "# # with open(\"test_study.pkl\", \"wb\") as fout:\n",
    "# #     pickle.dump(study, fout)\n",
    "\n",
    "# # show best hyperparameters\n",
    "# print(study.best_trial.params)"
   ]
  },
  {
   "cell_type": "code",
   "execution_count": 22,
   "id": "729ecac7-07ff-4d1f-8281-217c77d4a8b0",
   "metadata": {},
   "outputs": [],
   "source": [
    "# load the best model according to the validation loss\n",
    "# (given that we use early stopping, this is not necessarily the last epoch)\n",
    "best_model_path = trainer.checkpoint_callback.best_model_path\n",
    "best_tft = TemporalFusionTransformer.load_from_checkpoint(best_model_path)"
   ]
  },
  {
   "cell_type": "code",
   "execution_count": 23,
   "id": "071f19d8-1cbf-4db3-ba2e-1d4fcafcbee6",
   "metadata": {},
   "outputs": [
    {
     "data": {
      "text/plain": [
       "['lightning_logs\\\\default\\\\version_79\\\\checkpoints\\\\epoch=2-step=89.ckpt']"
      ]
     },
     "execution_count": 23,
     "metadata": {},
     "output_type": "execute_result"
    }
   ],
   "source": [
    "import joblib\n",
    "\n",
    "joblib.dump(best_model_path, best_model_path)"
   ]
  },
  {
   "cell_type": "code",
   "execution_count": 29,
   "id": "b886e66c-89f0-4ad8-9e42-c7bd6aad70b4",
   "metadata": {},
   "outputs": [],
   "source": [
    "pd.DataFrame(df.groupby(store_list)['time_idx'].max()).to_csv('time_idx.csv')"
   ]
  },
  {
   "cell_type": "code",
   "execution_count": 43,
   "id": "093d9722-2963-445d-a6ad-4b1b2baa539f",
   "metadata": {},
   "outputs": [],
   "source": [
    "df['max_time_idx'] = df.groupby(store_list)['time_idx'].transform(max)"
   ]
  },
  {
   "cell_type": "code",
   "execution_count": 45,
   "id": "a82b10f1-19cb-426e-b445-b6692400c0f4",
   "metadata": {},
   "outputs": [
    {
     "data": {
      "text/html": [
       "<div>\n",
       "<style scoped>\n",
       "    .dataframe tbody tr th:only-of-type {\n",
       "        vertical-align: middle;\n",
       "    }\n",
       "\n",
       "    .dataframe tbody tr th {\n",
       "        vertical-align: top;\n",
       "    }\n",
       "\n",
       "    .dataframe thead th {\n",
       "        text-align: right;\n",
       "    }\n",
       "</style>\n",
       "<table border=\"1\" class=\"dataframe\">\n",
       "  <thead>\n",
       "    <tr style=\"text-align: right;\">\n",
       "      <th></th>\n",
       "      <th>yymmdd</th>\n",
       "      <th>qty</th>\n",
       "      <th>time_idx</th>\n",
       "      <th>SP1</th>\n",
       "      <th>브랜드</th>\n",
       "    </tr>\n",
       "  </thead>\n",
       "  <tbody>\n",
       "    <tr>\n",
       "      <th>0</th>\n",
       "      <td>2021-09-12</td>\n",
       "      <td>25.125000</td>\n",
       "      <td>0</td>\n",
       "      <td>서대전영업소</td>\n",
       "      <td>ABC</td>\n",
       "    </tr>\n",
       "    <tr>\n",
       "      <th>1</th>\n",
       "      <td>2021-09-19</td>\n",
       "      <td>38.875000</td>\n",
       "      <td>1</td>\n",
       "      <td>서대전영업소</td>\n",
       "      <td>ABC</td>\n",
       "    </tr>\n",
       "    <tr>\n",
       "      <th>2</th>\n",
       "      <td>2021-09-26</td>\n",
       "      <td>14.000000</td>\n",
       "      <td>2</td>\n",
       "      <td>서대전영업소</td>\n",
       "      <td>ABC</td>\n",
       "    </tr>\n",
       "    <tr>\n",
       "      <th>3</th>\n",
       "      <td>2021-10-03</td>\n",
       "      <td>44.750000</td>\n",
       "      <td>3</td>\n",
       "      <td>서대전영업소</td>\n",
       "      <td>ABC</td>\n",
       "    </tr>\n",
       "    <tr>\n",
       "      <th>4</th>\n",
       "      <td>2021-10-10</td>\n",
       "      <td>38.125000</td>\n",
       "      <td>4</td>\n",
       "      <td>서대전영업소</td>\n",
       "      <td>ABC</td>\n",
       "    </tr>\n",
       "    <tr>\n",
       "      <th>...</th>\n",
       "      <td>...</td>\n",
       "      <td>...</td>\n",
       "      <td>...</td>\n",
       "      <td>...</td>\n",
       "      <td>...</td>\n",
       "    </tr>\n",
       "    <tr>\n",
       "      <th>19661</th>\n",
       "      <td>2022-12-25</td>\n",
       "      <td>11.796875</td>\n",
       "      <td>144</td>\n",
       "      <td>황금영업소</td>\n",
       "      <td>허쉬키세스</td>\n",
       "    </tr>\n",
       "    <tr>\n",
       "      <th>19662</th>\n",
       "      <td>2023-01-01</td>\n",
       "      <td>5.000000</td>\n",
       "      <td>145</td>\n",
       "      <td>황금영업소</td>\n",
       "      <td>허쉬키세스</td>\n",
       "    </tr>\n",
       "    <tr>\n",
       "      <th>19663</th>\n",
       "      <td>2023-01-08</td>\n",
       "      <td>8.000000</td>\n",
       "      <td>146</td>\n",
       "      <td>황금영업소</td>\n",
       "      <td>허쉬키세스</td>\n",
       "    </tr>\n",
       "    <tr>\n",
       "      <th>19664</th>\n",
       "      <td>2023-01-15</td>\n",
       "      <td>5.699219</td>\n",
       "      <td>147</td>\n",
       "      <td>황금영업소</td>\n",
       "      <td>허쉬키세스</td>\n",
       "    </tr>\n",
       "    <tr>\n",
       "      <th>19665</th>\n",
       "      <td>2023-01-22</td>\n",
       "      <td>10.000000</td>\n",
       "      <td>148</td>\n",
       "      <td>황금영업소</td>\n",
       "      <td>허쉬키세스</td>\n",
       "    </tr>\n",
       "  </tbody>\n",
       "</table>\n",
       "<p>19666 rows × 5 columns</p>\n",
       "</div>"
      ],
      "text/plain": [
       "          yymmdd        qty  time_idx     SP1    브랜드\n",
       "0     2021-09-12  25.125000         0  서대전영업소    ABC\n",
       "1     2021-09-19  38.875000         1  서대전영업소    ABC\n",
       "2     2021-09-26  14.000000         2  서대전영업소    ABC\n",
       "3     2021-10-03  44.750000         3  서대전영업소    ABC\n",
       "4     2021-10-10  38.125000         4  서대전영업소    ABC\n",
       "...          ...        ...       ...     ...    ...\n",
       "19661 2022-12-25  11.796875       144   황금영업소  허쉬키세스\n",
       "19662 2023-01-01   5.000000       145   황금영업소  허쉬키세스\n",
       "19663 2023-01-08   8.000000       146   황금영업소  허쉬키세스\n",
       "19664 2023-01-15   5.699219       147   황금영업소  허쉬키세스\n",
       "19665 2023-01-22  10.000000       148   황금영업소  허쉬키세스\n",
       "\n",
       "[19666 rows x 5 columns]"
      ]
     },
     "execution_count": 45,
     "metadata": {},
     "output_type": "execute_result"
    }
   ],
   "source": [
    "train_df = df[lambda x: x.time_idx <= x.max_time_idx - max_prediction_length]\n",
    "train_df = train_df[[date_var, target_var, 'time_idx'] + store_list].reset_index(drop=True)\n",
    "train_df"
   ]
  },
  {
   "cell_type": "code",
   "execution_count": 31,
   "id": "f37befd1-9d91-48a0-bfdf-7765be27380f",
   "metadata": {},
   "outputs": [
    {
     "data": {
      "text/html": [
       "<div>\n",
       "<style scoped>\n",
       "    .dataframe tbody tr th:only-of-type {\n",
       "        vertical-align: middle;\n",
       "    }\n",
       "\n",
       "    .dataframe tbody tr th {\n",
       "        vertical-align: top;\n",
       "    }\n",
       "\n",
       "    .dataframe thead th {\n",
       "        text-align: right;\n",
       "    }\n",
       "</style>\n",
       "<table border=\"1\" class=\"dataframe\">\n",
       "  <thead>\n",
       "    <tr style=\"text-align: right;\">\n",
       "      <th></th>\n",
       "      <th>yymmdd</th>\n",
       "      <th>qty</th>\n",
       "      <th>time_idx</th>\n",
       "      <th>SP1</th>\n",
       "      <th>브랜드</th>\n",
       "    </tr>\n",
       "  </thead>\n",
       "  <tbody>\n",
       "    <tr>\n",
       "      <th>0</th>\n",
       "      <td>2021-09-12</td>\n",
       "      <td>25.125000</td>\n",
       "      <td>0</td>\n",
       "      <td>서대전영업소</td>\n",
       "      <td>ABC</td>\n",
       "    </tr>\n",
       "    <tr>\n",
       "      <th>1</th>\n",
       "      <td>2021-09-19</td>\n",
       "      <td>38.875000</td>\n",
       "      <td>1</td>\n",
       "      <td>서대전영업소</td>\n",
       "      <td>ABC</td>\n",
       "    </tr>\n",
       "    <tr>\n",
       "      <th>2</th>\n",
       "      <td>2021-09-26</td>\n",
       "      <td>14.000000</td>\n",
       "      <td>2</td>\n",
       "      <td>서대전영업소</td>\n",
       "      <td>ABC</td>\n",
       "    </tr>\n",
       "    <tr>\n",
       "      <th>3</th>\n",
       "      <td>2021-10-03</td>\n",
       "      <td>44.750000</td>\n",
       "      <td>3</td>\n",
       "      <td>서대전영업소</td>\n",
       "      <td>ABC</td>\n",
       "    </tr>\n",
       "    <tr>\n",
       "      <th>4</th>\n",
       "      <td>2021-10-10</td>\n",
       "      <td>38.125000</td>\n",
       "      <td>4</td>\n",
       "      <td>서대전영업소</td>\n",
       "      <td>ABC</td>\n",
       "    </tr>\n",
       "    <tr>\n",
       "      <th>...</th>\n",
       "      <td>...</td>\n",
       "      <td>...</td>\n",
       "      <td>...</td>\n",
       "      <td>...</td>\n",
       "      <td>...</td>\n",
       "    </tr>\n",
       "    <tr>\n",
       "      <th>19847</th>\n",
       "      <td>2022-12-25</td>\n",
       "      <td>11.796875</td>\n",
       "      <td>144</td>\n",
       "      <td>황금영업소</td>\n",
       "      <td>허쉬키세스</td>\n",
       "    </tr>\n",
       "    <tr>\n",
       "      <th>19848</th>\n",
       "      <td>2023-01-01</td>\n",
       "      <td>5.000000</td>\n",
       "      <td>145</td>\n",
       "      <td>황금영업소</td>\n",
       "      <td>허쉬키세스</td>\n",
       "    </tr>\n",
       "    <tr>\n",
       "      <th>19849</th>\n",
       "      <td>2023-01-08</td>\n",
       "      <td>8.000000</td>\n",
       "      <td>146</td>\n",
       "      <td>황금영업소</td>\n",
       "      <td>허쉬키세스</td>\n",
       "    </tr>\n",
       "    <tr>\n",
       "      <th>19850</th>\n",
       "      <td>2023-01-15</td>\n",
       "      <td>5.699219</td>\n",
       "      <td>147</td>\n",
       "      <td>황금영업소</td>\n",
       "      <td>허쉬키세스</td>\n",
       "    </tr>\n",
       "    <tr>\n",
       "      <th>19851</th>\n",
       "      <td>2023-01-22</td>\n",
       "      <td>10.000000</td>\n",
       "      <td>148</td>\n",
       "      <td>황금영업소</td>\n",
       "      <td>허쉬키세스</td>\n",
       "    </tr>\n",
       "  </tbody>\n",
       "</table>\n",
       "<p>19852 rows × 5 columns</p>\n",
       "</div>"
      ],
      "text/plain": [
       "          yymmdd        qty  time_idx     SP1    브랜드\n",
       "0     2021-09-12  25.125000         0  서대전영업소    ABC\n",
       "1     2021-09-19  38.875000         1  서대전영업소    ABC\n",
       "2     2021-09-26  14.000000         2  서대전영업소    ABC\n",
       "3     2021-10-03  44.750000         3  서대전영업소    ABC\n",
       "4     2021-10-10  38.125000         4  서대전영업소    ABC\n",
       "...          ...        ...       ...     ...    ...\n",
       "19847 2022-12-25  11.796875       144   황금영업소  허쉬키세스\n",
       "19848 2023-01-01   5.000000       145   황금영업소  허쉬키세스\n",
       "19849 2023-01-08   8.000000       146   황금영업소  허쉬키세스\n",
       "19850 2023-01-15   5.699219       147   황금영업소  허쉬키세스\n",
       "19851 2023-01-22  10.000000       148   황금영업소  허쉬키세스\n",
       "\n",
       "[19852 rows x 5 columns]"
      ]
     },
     "execution_count": 31,
     "metadata": {},
     "output_type": "execute_result"
    }
   ],
   "source": [
    "# train_df = df[lambda x: x.time_idx <= x.time_idx.max() - max_prediction_length]\n",
    "# train_df = train_df[[date_var, target_var, 'time_idx'] + store_list].reset_index(drop=True)\n",
    "# train_df"
   ]
  },
  {
   "cell_type": "code",
   "execution_count": 30,
   "id": "e9a830c7-2bc3-43dd-ae4f-9332ef030658",
   "metadata": {},
   "outputs": [
    {
     "data": {
      "text/html": [
       "<div>\n",
       "<style scoped>\n",
       "    .dataframe tbody tr th:only-of-type {\n",
       "        vertical-align: middle;\n",
       "    }\n",
       "\n",
       "    .dataframe tbody tr th {\n",
       "        vertical-align: top;\n",
       "    }\n",
       "\n",
       "    .dataframe thead th {\n",
       "        text-align: right;\n",
       "    }\n",
       "</style>\n",
       "<table border=\"1\" class=\"dataframe\">\n",
       "  <thead>\n",
       "    <tr style=\"text-align: right;\">\n",
       "      <th></th>\n",
       "      <th>yymmdd</th>\n",
       "      <th>qty</th>\n",
       "      <th>time_idx</th>\n",
       "      <th>SP1</th>\n",
       "      <th>브랜드</th>\n",
       "    </tr>\n",
       "  </thead>\n",
       "  <tbody>\n",
       "    <tr>\n",
       "      <th>0</th>\n",
       "      <td>2021-09-12</td>\n",
       "      <td>25.12500</td>\n",
       "      <td>0</td>\n",
       "      <td>서대전영업소</td>\n",
       "      <td>ABC</td>\n",
       "    </tr>\n",
       "    <tr>\n",
       "      <th>1</th>\n",
       "      <td>2021-09-19</td>\n",
       "      <td>38.87500</td>\n",
       "      <td>1</td>\n",
       "      <td>서대전영업소</td>\n",
       "      <td>ABC</td>\n",
       "    </tr>\n",
       "    <tr>\n",
       "      <th>2</th>\n",
       "      <td>2021-09-26</td>\n",
       "      <td>14.00000</td>\n",
       "      <td>2</td>\n",
       "      <td>서대전영업소</td>\n",
       "      <td>ABC</td>\n",
       "    </tr>\n",
       "    <tr>\n",
       "      <th>3</th>\n",
       "      <td>2021-10-03</td>\n",
       "      <td>44.75000</td>\n",
       "      <td>3</td>\n",
       "      <td>서대전영업소</td>\n",
       "      <td>ABC</td>\n",
       "    </tr>\n",
       "    <tr>\n",
       "      <th>4</th>\n",
       "      <td>2021-10-10</td>\n",
       "      <td>38.12500</td>\n",
       "      <td>4</td>\n",
       "      <td>서대전영업소</td>\n",
       "      <td>ABC</td>\n",
       "    </tr>\n",
       "    <tr>\n",
       "      <th>...</th>\n",
       "      <td>...</td>\n",
       "      <td>...</td>\n",
       "      <td>...</td>\n",
       "      <td>...</td>\n",
       "      <td>...</td>\n",
       "    </tr>\n",
       "    <tr>\n",
       "      <th>95</th>\n",
       "      <td>2020-07-12</td>\n",
       "      <td>38.25000</td>\n",
       "      <td>16</td>\n",
       "      <td>서대전영업소</td>\n",
       "      <td>ABC쿠키</td>\n",
       "    </tr>\n",
       "    <tr>\n",
       "      <th>96</th>\n",
       "      <td>2020-07-19</td>\n",
       "      <td>45.28125</td>\n",
       "      <td>17</td>\n",
       "      <td>서대전영업소</td>\n",
       "      <td>ABC쿠키</td>\n",
       "    </tr>\n",
       "    <tr>\n",
       "      <th>97</th>\n",
       "      <td>2020-07-26</td>\n",
       "      <td>21.03125</td>\n",
       "      <td>18</td>\n",
       "      <td>서대전영업소</td>\n",
       "      <td>ABC쿠키</td>\n",
       "    </tr>\n",
       "    <tr>\n",
       "      <th>98</th>\n",
       "      <td>2020-08-02</td>\n",
       "      <td>27.06250</td>\n",
       "      <td>19</td>\n",
       "      <td>서대전영업소</td>\n",
       "      <td>ABC쿠키</td>\n",
       "    </tr>\n",
       "    <tr>\n",
       "      <th>99</th>\n",
       "      <td>2020-08-09</td>\n",
       "      <td>31.00000</td>\n",
       "      <td>20</td>\n",
       "      <td>서대전영업소</td>\n",
       "      <td>ABC쿠키</td>\n",
       "    </tr>\n",
       "  </tbody>\n",
       "</table>\n",
       "<p>100 rows × 5 columns</p>\n",
       "</div>"
      ],
      "text/plain": [
       "       yymmdd       qty  time_idx     SP1    브랜드\n",
       "0  2021-09-12  25.12500         0  서대전영업소    ABC\n",
       "1  2021-09-19  38.87500         1  서대전영업소    ABC\n",
       "2  2021-09-26  14.00000         2  서대전영업소    ABC\n",
       "3  2021-10-03  44.75000         3  서대전영업소    ABC\n",
       "4  2021-10-10  38.12500         4  서대전영업소    ABC\n",
       "..        ...       ...       ...     ...    ...\n",
       "95 2020-07-12  38.25000        16  서대전영업소  ABC쿠키\n",
       "96 2020-07-19  45.28125        17  서대전영업소  ABC쿠키\n",
       "97 2020-07-26  21.03125        18  서대전영업소  ABC쿠키\n",
       "98 2020-08-02  27.06250        19  서대전영업소  ABC쿠키\n",
       "99 2020-08-09  31.00000        20  서대전영업소  ABC쿠키\n",
       "\n",
       "[100 rows x 5 columns]"
      ]
     },
     "execution_count": 30,
     "metadata": {},
     "output_type": "execute_result"
    }
   ],
   "source": [
    "train_df.head(100)"
   ]
  },
  {
   "cell_type": "code",
   "execution_count": 46,
   "id": "0f0f7df9-dd27-4cea-8029-dfdaebb4c20d",
   "metadata": {},
   "outputs": [],
   "source": [
    "val_df = df[lambda x: x.time_idx > x.max_time_idx - max_prediction_length]\n",
    "val_df = val_df[[date_var, target_var] + store_list].reset_index(drop=True)"
   ]
  },
  {
   "cell_type": "code",
   "execution_count": 47,
   "id": "9ec83aa4-f368-4530-95b5-dddf18df64f6",
   "metadata": {},
   "outputs": [
    {
     "data": {
      "text/html": [
       "<div>\n",
       "<style scoped>\n",
       "    .dataframe tbody tr th:only-of-type {\n",
       "        vertical-align: middle;\n",
       "    }\n",
       "\n",
       "    .dataframe tbody tr th {\n",
       "        vertical-align: top;\n",
       "    }\n",
       "\n",
       "    .dataframe thead th {\n",
       "        text-align: right;\n",
       "    }\n",
       "</style>\n",
       "<table border=\"1\" class=\"dataframe\">\n",
       "  <thead>\n",
       "    <tr style=\"text-align: right;\">\n",
       "      <th></th>\n",
       "      <th>yymmdd</th>\n",
       "      <th>qty</th>\n",
       "      <th>SP1</th>\n",
       "      <th>브랜드</th>\n",
       "    </tr>\n",
       "  </thead>\n",
       "  <tbody>\n",
       "    <tr>\n",
       "      <th>0</th>\n",
       "      <td>2023-01-29</td>\n",
       "      <td>50.5000</td>\n",
       "      <td>서대전영업소</td>\n",
       "      <td>ABC</td>\n",
       "    </tr>\n",
       "    <tr>\n",
       "      <th>1</th>\n",
       "      <td>2023-02-05</td>\n",
       "      <td>182.8750</td>\n",
       "      <td>서대전영업소</td>\n",
       "      <td>ABC</td>\n",
       "    </tr>\n",
       "    <tr>\n",
       "      <th>2</th>\n",
       "      <td>2023-02-12</td>\n",
       "      <td>181.3750</td>\n",
       "      <td>서대전영업소</td>\n",
       "      <td>ABC</td>\n",
       "    </tr>\n",
       "    <tr>\n",
       "      <th>3</th>\n",
       "      <td>2023-02-19</td>\n",
       "      <td>102.6875</td>\n",
       "      <td>서대전영업소</td>\n",
       "      <td>ABC</td>\n",
       "    </tr>\n",
       "    <tr>\n",
       "      <th>4</th>\n",
       "      <td>2023-02-26</td>\n",
       "      <td>100.3750</td>\n",
       "      <td>서대전영업소</td>\n",
       "      <td>ABC</td>\n",
       "    </tr>\n",
       "    <tr>\n",
       "      <th>...</th>\n",
       "      <td>...</td>\n",
       "      <td>...</td>\n",
       "      <td>...</td>\n",
       "      <td>...</td>\n",
       "    </tr>\n",
       "    <tr>\n",
       "      <th>1003</th>\n",
       "      <td>2023-02-12</td>\n",
       "      <td>25.0000</td>\n",
       "      <td>황금영업소</td>\n",
       "      <td>허쉬키세스</td>\n",
       "    </tr>\n",
       "    <tr>\n",
       "      <th>1004</th>\n",
       "      <td>2023-02-19</td>\n",
       "      <td>5.0000</td>\n",
       "      <td>황금영업소</td>\n",
       "      <td>허쉬키세스</td>\n",
       "    </tr>\n",
       "    <tr>\n",
       "      <th>1005</th>\n",
       "      <td>2023-02-26</td>\n",
       "      <td>5.0000</td>\n",
       "      <td>황금영업소</td>\n",
       "      <td>허쉬키세스</td>\n",
       "    </tr>\n",
       "    <tr>\n",
       "      <th>1006</th>\n",
       "      <td>2023-03-05</td>\n",
       "      <td>8.0000</td>\n",
       "      <td>황금영업소</td>\n",
       "      <td>허쉬키세스</td>\n",
       "    </tr>\n",
       "    <tr>\n",
       "      <th>1007</th>\n",
       "      <td>2023-03-12</td>\n",
       "      <td>9.0000</td>\n",
       "      <td>황금영업소</td>\n",
       "      <td>허쉬키세스</td>\n",
       "    </tr>\n",
       "  </tbody>\n",
       "</table>\n",
       "<p>1008 rows × 4 columns</p>\n",
       "</div>"
      ],
      "text/plain": [
       "         yymmdd       qty     SP1    브랜드\n",
       "0    2023-01-29   50.5000  서대전영업소    ABC\n",
       "1    2023-02-05  182.8750  서대전영업소    ABC\n",
       "2    2023-02-12  181.3750  서대전영업소    ABC\n",
       "3    2023-02-19  102.6875  서대전영업소    ABC\n",
       "4    2023-02-26  100.3750  서대전영업소    ABC\n",
       "...         ...       ...     ...    ...\n",
       "1003 2023-02-12   25.0000   황금영업소  허쉬키세스\n",
       "1004 2023-02-19    5.0000   황금영업소  허쉬키세스\n",
       "1005 2023-02-26    5.0000   황금영업소  허쉬키세스\n",
       "1006 2023-03-05    8.0000   황금영업소  허쉬키세스\n",
       "1007 2023-03-12    9.0000   황금영업소  허쉬키세스\n",
       "\n",
       "[1008 rows x 4 columns]"
      ]
     },
     "execution_count": 47,
     "metadata": {},
     "output_type": "execute_result"
    }
   ],
   "source": [
    "val_df"
   ]
  },
  {
   "cell_type": "code",
   "execution_count": 48,
   "id": "58295fc2-79e4-47fd-b66e-da4e59fdf5d5",
   "metadata": {},
   "outputs": [],
   "source": [
    "val_predictions, _ = best_tft.predict(val_dataloader, mode=\"prediction\", return_x=True)\n",
    "val_predictions = pd.DataFrame(val_predictions.reshape(-1,1).numpy(), columns=['pred'])"
   ]
  },
  {
   "cell_type": "code",
   "execution_count": 49,
   "id": "c4d36d59-e52a-48ea-a691-8df3aea7fc9a",
   "metadata": {},
   "outputs": [],
   "source": [
    "val_df = pd.concat([val_df, val_predictions], axis=1)"
   ]
  },
  {
   "cell_type": "code",
   "execution_count": 50,
   "id": "0821885c-b6a1-4ad0-b8f1-837c5b978aea",
   "metadata": {},
   "outputs": [],
   "source": [
    "val_df.to_csv('val_df.csv')"
   ]
  },
  {
   "cell_type": "code",
   "execution_count": 51,
   "id": "0ab855fc-b418-4e25-8998-3ee9a653c288",
   "metadata": {},
   "outputs": [],
   "source": [
    "# select last 24 months from data (max_encoder_length is 24)\n",
    "encoder_data = df[lambda x: x.time_idx > x.time_idx.max() - max_encoder_length]\n",
    "\n",
    "# select last known data point and create decoder data from it by repeating it and incrementing the month\n",
    "# in a real world dataset, we should not just forward fill the covariates but specify them to account\n",
    "# for changes in special days and prices (which you absolutely should do but we are too lazy here)\n",
    "last_data = df[lambda x: x.time_idx == x.time_idx.max()]\n",
    "\n",
    "if unit == 'day':\n",
    "    decoder_data = pd.concat(\n",
    "    [last_data.assign(date_var = lambda x: x[date_var] + timedelta(days=i),\n",
    "                      time_idx = lambda x: x.time_idx + i) \n",
    "                    for i in range(1, max_prediction_length + 1)], ignore_index=True, )\n",
    "elif unit == 'week':\n",
    "    decoder_data = pd.concat(\n",
    "    [last_data.assign(date_var = lambda x: x[date_var] + timedelta(days=7*i),\n",
    "                      time_idx = lambda x: x.time_idx + i) \n",
    "                    for i in range(1, max_prediction_length + 1)], ignore_index=True, )\n",
    "elif unit == 'month':\n",
    "    decoder_data = pd.concat([last_data.assign(date_var = lambda x: x[date_var] + pd.offsets.MonthBegin(i),\n",
    "                      time_idx = lambda x: x.time_idx + i) \n",
    "                    for i in range(1, max_prediction_length + 1)], ignore_index=True, )\n",
    "\n",
    "#fake date_var 삽입 필요\n",
    "decoder_data.loc[:, date_var] = decoder_data['date_var']\n",
    "decoder_data.drop('date_var', axis=1, inplace=True)\n",
    "decoder_data.sort_values(store_list+[date_var], inplace=True)\n",
    "\n",
    "# add additional features\n",
    "if unit == 'day':\n",
    "    decoder_data[unit] = decoder_data[date_var].dt.day.astype(str).astype(\"category\")\n",
    "elif unit == 'week':\n",
    "    decoder_data[unit] = decoder_data[date_var].dt.isocalendar().week.astype(str).astype(\"category\")  # categories have be strings\n",
    "elif unit == 'month':\n",
    "    decoder_data[unit] = decoder_data[date_var].dt.month.astype(str).astype(\"category\")  # categories have be strings\n",
    "\n",
    "# combine encoder and decoder data\n",
    "new_prediction_data = pd.concat([encoder_data, decoder_data], ignore_index=True)\n",
    "#매우 중요\n",
    "new_prediction_data.sort_values(store_list, inplace=True)"
   ]
  },
  {
   "cell_type": "code",
   "execution_count": 52,
   "id": "232d6d2a-02db-4e8b-9f2d-d7875fc63d76",
   "metadata": {},
   "outputs": [],
   "source": [
    "# new_raw_predictions, new_x = best_tft.predict(new_prediction_data, mode=\"raw\", return_x=True)\n",
    "# for idx in range(1):  # plot 10 examples\n",
    "#     best_tft.plot_prediction(new_x, new_raw_predictions, idx=idx, show_future_observed=False);"
   ]
  },
  {
   "cell_type": "code",
   "execution_count": 53,
   "id": "006e5dae-d1c2-4e86-b717-6f306458ad5a",
   "metadata": {},
   "outputs": [],
   "source": [
    "predictions = best_tft.predict(new_prediction_data, mode=\"prediction\", return_x=False)\n",
    "predictions = pd.DataFrame(predictions.reshape(-1,1).numpy(), columns=['pred'])"
   ]
  },
  {
   "cell_type": "code",
   "execution_count": 54,
   "id": "62787ea0-7572-4923-803f-c6f5d8eece5a",
   "metadata": {},
   "outputs": [
    {
     "data": {
      "text/html": [
       "<div>\n",
       "<style scoped>\n",
       "    .dataframe tbody tr th:only-of-type {\n",
       "        vertical-align: middle;\n",
       "    }\n",
       "\n",
       "    .dataframe tbody tr th {\n",
       "        vertical-align: top;\n",
       "    }\n",
       "\n",
       "    .dataframe thead th {\n",
       "        text-align: right;\n",
       "    }\n",
       "</style>\n",
       "<table border=\"1\" class=\"dataframe\">\n",
       "  <thead>\n",
       "    <tr style=\"text-align: right;\">\n",
       "      <th></th>\n",
       "      <th>pred</th>\n",
       "    </tr>\n",
       "  </thead>\n",
       "  <tbody>\n",
       "    <tr>\n",
       "      <th>0</th>\n",
       "      <td>71.716675</td>\n",
       "    </tr>\n",
       "    <tr>\n",
       "      <th>1</th>\n",
       "      <td>72.251450</td>\n",
       "    </tr>\n",
       "    <tr>\n",
       "      <th>2</th>\n",
       "      <td>71.869789</td>\n",
       "    </tr>\n",
       "    <tr>\n",
       "      <th>3</th>\n",
       "      <td>74.467087</td>\n",
       "    </tr>\n",
       "    <tr>\n",
       "      <th>4</th>\n",
       "      <td>73.445953</td>\n",
       "    </tr>\n",
       "    <tr>\n",
       "      <th>...</th>\n",
       "      <td>...</td>\n",
       "    </tr>\n",
       "    <tr>\n",
       "      <th>828</th>\n",
       "      <td>20.010408</td>\n",
       "    </tr>\n",
       "    <tr>\n",
       "      <th>829</th>\n",
       "      <td>21.334539</td>\n",
       "    </tr>\n",
       "    <tr>\n",
       "      <th>830</th>\n",
       "      <td>21.476118</td>\n",
       "    </tr>\n",
       "    <tr>\n",
       "      <th>831</th>\n",
       "      <td>21.237013</td>\n",
       "    </tr>\n",
       "    <tr>\n",
       "      <th>832</th>\n",
       "      <td>22.173862</td>\n",
       "    </tr>\n",
       "  </tbody>\n",
       "</table>\n",
       "<p>833 rows × 1 columns</p>\n",
       "</div>"
      ],
      "text/plain": [
       "          pred\n",
       "0    71.716675\n",
       "1    72.251450\n",
       "2    71.869789\n",
       "3    74.467087\n",
       "4    73.445953\n",
       "..         ...\n",
       "828  20.010408\n",
       "829  21.334539\n",
       "830  21.476118\n",
       "831  21.237013\n",
       "832  22.173862\n",
       "\n",
       "[833 rows x 1 columns]"
      ]
     },
     "execution_count": 54,
     "metadata": {},
     "output_type": "execute_result"
    }
   ],
   "source": [
    "predictions"
   ]
  },
  {
   "cell_type": "code",
   "execution_count": 55,
   "id": "aaf017e0-af1e-4107-813c-25caf72885ef",
   "metadata": {},
   "outputs": [],
   "source": [
    "pred_df = decoder_data[[date_var] + store_list].reset_index(drop=True)\n",
    "pred_df = pd.concat([pred_df, predictions], axis=1)"
   ]
  },
  {
   "cell_type": "code",
   "execution_count": 56,
   "id": "e1193e3a-43ad-4700-9a4c-98c5c251579e",
   "metadata": {},
   "outputs": [],
   "source": [
    "pred_df.to_csv('pred_df.csv')"
   ]
  },
  {
   "cell_type": "code",
   "execution_count": 77,
   "id": "6db9b957-edb0-4905-9049-0f538b276623",
   "metadata": {},
   "outputs": [
    {
     "data": {
      "text/plain": [
       "True"
      ]
     },
     "execution_count": 77,
     "metadata": {},
     "output_type": "execute_result"
    }
   ],
   "source": [
    "'Store' in pred_df.columns"
   ]
  },
  {
   "cell_type": "code",
   "execution_count": 68,
   "id": "8f4b245c-70b9-4c2f-bc42-30f8944489c6",
   "metadata": {},
   "outputs": [],
   "source": [
    "sample_dict = dict()"
   ]
  },
  {
   "cell_type": "code",
   "execution_count": 69,
   "id": "5c9f2481-f470-40e9-bd01-019e4116cf2d",
   "metadata": {},
   "outputs": [],
   "source": [
    "sample_dict['int']=dict()"
   ]
  },
  {
   "cell_type": "code",
   "execution_count": 71,
   "id": "c61409d8-71a8-4346-8077-a6d4e308d3f6",
   "metadata": {},
   "outputs": [],
   "source": [
    "sample_dict['int']['tft']=static_variables"
   ]
  },
  {
   "cell_type": "code",
   "execution_count": 80,
   "id": "39fd710a-286a-4b15-9a1d-80ce65efb032",
   "metadata": {},
   "outputs": [
    {
     "data": {
      "text/html": [
       "<div>\n",
       "<style scoped>\n",
       "    .dataframe tbody tr th:only-of-type {\n",
       "        vertical-align: middle;\n",
       "    }\n",
       "\n",
       "    .dataframe tbody tr th {\n",
       "        vertical-align: top;\n",
       "    }\n",
       "\n",
       "    .dataframe thead th {\n",
       "        text-align: right;\n",
       "    }\n",
       "</style>\n",
       "<table border=\"1\" class=\"dataframe\">\n",
       "  <thead>\n",
       "    <tr style=\"text-align: right;\">\n",
       "      <th></th>\n",
       "      <th>정적공변량 변수중요도</th>\n",
       "    </tr>\n",
       "  </thead>\n",
       "  <tbody>\n",
       "    <tr>\n",
       "      <th>Store</th>\n",
       "      <td>0.250015</td>\n",
       "    </tr>\n",
       "    <tr>\n",
       "      <th>encoder_length</th>\n",
       "      <td>0.251912</td>\n",
       "    </tr>\n",
       "    <tr>\n",
       "      <th>Weekly_Sales_center</th>\n",
       "      <td>0.390753</td>\n",
       "    </tr>\n",
       "    <tr>\n",
       "      <th>Weekly_Sales_scale</th>\n",
       "      <td>0.107320</td>\n",
       "    </tr>\n",
       "  </tbody>\n",
       "</table>\n",
       "</div>"
      ],
      "text/plain": [
       "                     정적공변량 변수중요도\n",
       "Store                   0.250015\n",
       "encoder_length          0.251912\n",
       "Weekly_Sales_center     0.390753\n",
       "Weekly_Sales_scale      0.107320"
      ]
     },
     "execution_count": 80,
     "metadata": {},
     "output_type": "execute_result"
    }
   ],
   "source": [
    "pd.DataFrame(sample_dict['int']['tft'])"
   ]
  },
  {
   "cell_type": "code",
   "execution_count": 67,
   "id": "9be38b7c-dc6d-475c-8d63-97b8d3b3f44b",
   "metadata": {},
   "outputs": [
    {
     "data": {
      "text/html": [
       "<div>\n",
       "<style scoped>\n",
       "    .dataframe tbody tr th:only-of-type {\n",
       "        vertical-align: middle;\n",
       "    }\n",
       "\n",
       "    .dataframe tbody tr th {\n",
       "        vertical-align: top;\n",
       "    }\n",
       "\n",
       "    .dataframe thead th {\n",
       "        text-align: right;\n",
       "    }\n",
       "</style>\n",
       "<table border=\"1\" class=\"dataframe\">\n",
       "  <thead>\n",
       "    <tr style=\"text-align: right;\">\n",
       "      <th></th>\n",
       "      <th>Time index</th>\n",
       "    </tr>\n",
       "  </thead>\n",
       "  <tbody>\n",
       "    <tr>\n",
       "      <th>-28</th>\n",
       "      <td>0.723026</td>\n",
       "    </tr>\n",
       "    <tr>\n",
       "      <th>-27</th>\n",
       "      <td>1.521461</td>\n",
       "    </tr>\n",
       "    <tr>\n",
       "      <th>-26</th>\n",
       "      <td>6.819793</td>\n",
       "    </tr>\n",
       "    <tr>\n",
       "      <th>-25</th>\n",
       "      <td>1.653796</td>\n",
       "    </tr>\n",
       "    <tr>\n",
       "      <th>-24</th>\n",
       "      <td>0.704939</td>\n",
       "    </tr>\n",
       "    <tr>\n",
       "      <th>-23</th>\n",
       "      <td>1.007631</td>\n",
       "    </tr>\n",
       "    <tr>\n",
       "      <th>-22</th>\n",
       "      <td>1.231099</td>\n",
       "    </tr>\n",
       "    <tr>\n",
       "      <th>-21</th>\n",
       "      <td>0.818029</td>\n",
       "    </tr>\n",
       "    <tr>\n",
       "      <th>-20</th>\n",
       "      <td>0.525335</td>\n",
       "    </tr>\n",
       "    <tr>\n",
       "      <th>-19</th>\n",
       "      <td>0.684381</td>\n",
       "    </tr>\n",
       "    <tr>\n",
       "      <th>-18</th>\n",
       "      <td>1.479472</td>\n",
       "    </tr>\n",
       "    <tr>\n",
       "      <th>-17</th>\n",
       "      <td>1.073932</td>\n",
       "    </tr>\n",
       "    <tr>\n",
       "      <th>-16</th>\n",
       "      <td>0.655468</td>\n",
       "    </tr>\n",
       "    <tr>\n",
       "      <th>-15</th>\n",
       "      <td>0.683580</td>\n",
       "    </tr>\n",
       "    <tr>\n",
       "      <th>-14</th>\n",
       "      <td>0.773066</td>\n",
       "    </tr>\n",
       "    <tr>\n",
       "      <th>-13</th>\n",
       "      <td>0.952508</td>\n",
       "    </tr>\n",
       "    <tr>\n",
       "      <th>-12</th>\n",
       "      <td>2.747649</td>\n",
       "    </tr>\n",
       "    <tr>\n",
       "      <th>-11</th>\n",
       "      <td>2.463500</td>\n",
       "    </tr>\n",
       "    <tr>\n",
       "      <th>-10</th>\n",
       "      <td>4.633004</td>\n",
       "    </tr>\n",
       "    <tr>\n",
       "      <th>-9</th>\n",
       "      <td>0.845964</td>\n",
       "    </tr>\n",
       "    <tr>\n",
       "      <th>-8</th>\n",
       "      <td>0.461437</td>\n",
       "    </tr>\n",
       "    <tr>\n",
       "      <th>-7</th>\n",
       "      <td>1.803677</td>\n",
       "    </tr>\n",
       "    <tr>\n",
       "      <th>-6</th>\n",
       "      <td>0.671067</td>\n",
       "    </tr>\n",
       "    <tr>\n",
       "      <th>-5</th>\n",
       "      <td>1.369988</td>\n",
       "    </tr>\n",
       "    <tr>\n",
       "      <th>-4</th>\n",
       "      <td>0.674498</td>\n",
       "    </tr>\n",
       "    <tr>\n",
       "      <th>-3</th>\n",
       "      <td>0.655375</td>\n",
       "    </tr>\n",
       "    <tr>\n",
       "      <th>-2</th>\n",
       "      <td>6.870859</td>\n",
       "    </tr>\n",
       "    <tr>\n",
       "      <th>-1</th>\n",
       "      <td>0.495463</td>\n",
       "    </tr>\n",
       "  </tbody>\n",
       "</table>\n",
       "</div>"
      ],
      "text/plain": [
       "     Time index\n",
       "-28    0.723026\n",
       "-27    1.521461\n",
       "-26    6.819793\n",
       "-25    1.653796\n",
       "-24    0.704939\n",
       "-23    1.007631\n",
       "-22    1.231099\n",
       "-21    0.818029\n",
       "-20    0.525335\n",
       "-19    0.684381\n",
       "-18    1.479472\n",
       "-17    1.073932\n",
       "-16    0.655468\n",
       "-15    0.683580\n",
       "-14    0.773066\n",
       "-13    0.952508\n",
       "-12    2.747649\n",
       "-11    2.463500\n",
       "-10    4.633004\n",
       "-9     0.845964\n",
       "-8     0.461437\n",
       "-7     1.803677\n",
       "-6     0.671067\n",
       "-5     1.369988\n",
       "-4     0.674498\n",
       "-3     0.655375\n",
       "-2     6.870859\n",
       "-1     0.495463"
      ]
     },
     "execution_count": 67,
     "metadata": {},
     "output_type": "execute_result"
    }
   ],
   "source": [
    "predictions_for_interpret, _ = best_tft.predict(val_dataloader, mode=\"raw\", return_x=True)\n",
    "interpretation = best_tft.interpret_output(predictions_for_interpret, reduction=\"sum\")\n",
    "time_variables = pd.DataFrame(interpretation['attention'].numpy(),\n",
    "                              columns= ['Time index'],\n",
    "                              index = [i-len(interpretation['attention']) for i in range(len(interpretation['attention']))])\n",
    "static_variables = pd.DataFrame(interpretation['static_variables'].numpy()/interpretation['static_variables'].numpy().sum(), \n",
    "                                index = [best_tft.static_variables], \n",
    "                                columns=['정적공변량 변수중요도'])\n",
    "encoder_variables = pd.DataFrame(interpretation['encoder_variables'].numpy()/interpretation['encoder_variables'].numpy().sum(),\n",
    "                                 index = [best_tft.encoder_variables], \n",
    "                                 columns=['인코더 변수중요도'])"
   ]
  },
  {
   "cell_type": "code",
   "execution_count": null,
   "id": "8b3ae8a7-d129-4bc2-ae99-87768da54853",
   "metadata": {},
   "outputs": [],
   "source": []
  }
 ],
 "metadata": {
  "kernelspec": {
   "display_name": "Python 3 (ipykernel)",
   "language": "python",
   "name": "python3"
  },
  "language_info": {
   "codemirror_mode": {
    "name": "ipython",
    "version": 3
   },
   "file_extension": ".py",
   "mimetype": "text/x-python",
   "name": "python",
   "nbconvert_exporter": "python",
   "pygments_lexer": "ipython3",
   "version": "3.10.8"
  }
 },
 "nbformat": 4,
 "nbformat_minor": 5
}
